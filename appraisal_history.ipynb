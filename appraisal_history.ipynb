{
 "cells": [
  {
   "cell_type": "code",
   "execution_count": 1,
   "id": "3d40294f",
   "metadata": {},
   "outputs": [],
   "source": [
    "import pandas as pd\n",
    "import numpy as np\n",
    "import operator\n",
    "import datetime as dt\n",
    "import time\n",
    "import seaborn as sns\n",
    "import matplotlib.pyplot as plt\n",
    "%matplotlib inline"
   ]
  },
  {
   "cell_type": "code",
   "execution_count": 2,
   "id": "51cbc793",
   "metadata": {},
   "outputs": [
    {
     "data": {
      "text/html": [
       "<div>\n",
       "<style scoped>\n",
       "    .dataframe tbody tr th:only-of-type {\n",
       "        vertical-align: middle;\n",
       "    }\n",
       "\n",
       "    .dataframe tbody tr th {\n",
       "        vertical-align: top;\n",
       "    }\n",
       "\n",
       "    .dataframe thead th {\n",
       "        text-align: right;\n",
       "    }\n",
       "</style>\n",
       "<table border=\"1\" class=\"dataframe\">\n",
       "  <thead>\n",
       "    <tr style=\"text-align: right;\">\n",
       "      <th></th>\n",
       "      <th>UserAccount</th>\n",
       "      <th>FiscalYear</th>\n",
       "      <th>LAND APPR</th>\n",
       "      <th>BLDG APPR</th>\n",
       "      <th>TOTAL APPR</th>\n",
       "      <th>TOTAL ASSD</th>\n",
       "    </tr>\n",
       "  </thead>\n",
       "  <tbody>\n",
       "    <tr>\n",
       "      <th>0</th>\n",
       "      <td>NaN</td>\n",
       "      <td>2005</td>\n",
       "      <td>30000</td>\n",
       "      <td>3100</td>\n",
       "      <td>33100</td>\n",
       "      <td>13240</td>\n",
       "    </tr>\n",
       "    <tr>\n",
       "      <th>1</th>\n",
       "      <td>00100000100</td>\n",
       "      <td>2005</td>\n",
       "      <td>25800</td>\n",
       "      <td>0</td>\n",
       "      <td>25800</td>\n",
       "      <td>0</td>\n",
       "    </tr>\n",
       "    <tr>\n",
       "      <th>2</th>\n",
       "      <td>00100000200</td>\n",
       "      <td>2005</td>\n",
       "      <td>13600</td>\n",
       "      <td>0</td>\n",
       "      <td>13600</td>\n",
       "      <td>3400</td>\n",
       "    </tr>\n",
       "    <tr>\n",
       "      <th>3</th>\n",
       "      <td>00200000100</td>\n",
       "      <td>2005</td>\n",
       "      <td>0</td>\n",
       "      <td>0</td>\n",
       "      <td>0</td>\n",
       "      <td>0</td>\n",
       "    </tr>\n",
       "    <tr>\n",
       "      <th>4</th>\n",
       "      <td>00200000100001</td>\n",
       "      <td>2005</td>\n",
       "      <td>10200</td>\n",
       "      <td>26600</td>\n",
       "      <td>36800</td>\n",
       "      <td>0</td>\n",
       "    </tr>\n",
       "    <tr>\n",
       "      <th>5</th>\n",
       "      <td>00200000100002</td>\n",
       "      <td>2005</td>\n",
       "      <td>19000</td>\n",
       "      <td>0</td>\n",
       "      <td>19000</td>\n",
       "      <td>0</td>\n",
       "    </tr>\n",
       "    <tr>\n",
       "      <th>6</th>\n",
       "      <td>00200000200</td>\n",
       "      <td>2005</td>\n",
       "      <td>18000</td>\n",
       "      <td>0</td>\n",
       "      <td>18000</td>\n",
       "      <td>4500</td>\n",
       "    </tr>\n",
       "    <tr>\n",
       "      <th>7</th>\n",
       "      <td>00200000300</td>\n",
       "      <td>2005</td>\n",
       "      <td>32700</td>\n",
       "      <td>71800</td>\n",
       "      <td>104500</td>\n",
       "      <td>26125</td>\n",
       "    </tr>\n",
       "    <tr>\n",
       "      <th>8</th>\n",
       "      <td>00200000700</td>\n",
       "      <td>2005</td>\n",
       "      <td>33100</td>\n",
       "      <td>80400</td>\n",
       "      <td>113500</td>\n",
       "      <td>28375</td>\n",
       "    </tr>\n",
       "    <tr>\n",
       "      <th>9</th>\n",
       "      <td>00200000800</td>\n",
       "      <td>2005</td>\n",
       "      <td>22400</td>\n",
       "      <td>0</td>\n",
       "      <td>22400</td>\n",
       "      <td>5600</td>\n",
       "    </tr>\n",
       "  </tbody>\n",
       "</table>\n",
       "</div>"
      ],
      "text/plain": [
       "      UserAccount  FiscalYear  LAND APPR  BLDG APPR  TOTAL APPR  TOTAL ASSD\n",
       "0             NaN        2005      30000       3100       33100       13240\n",
       "1     00100000100        2005      25800          0       25800           0\n",
       "2     00100000200        2005      13600          0       13600        3400\n",
       "3     00200000100        2005          0          0           0           0\n",
       "4  00200000100001        2005      10200      26600       36800           0\n",
       "5  00200000100002        2005      19000          0       19000           0\n",
       "6     00200000200        2005      18000          0       18000        4500\n",
       "7     00200000300        2005      32700      71800      104500       26125\n",
       "8     00200000700        2005      33100      80400      113500       28375\n",
       "9     00200000800        2005      22400          0       22400        5600"
      ]
     },
     "execution_count": 2,
     "metadata": {},
     "output_type": "execute_result"
    }
   ],
   "source": [
    "app2005 = pd.read_excel('../data/2005_appraisals_[source].xlsx', usecols=['UserAccount','FiscalYear','LAND APPR','BLDG APPR','TOTAL APPR','TOTAL ASSD'])\n",
    "app2005.head(10)"
   ]
  },
  {
   "cell_type": "code",
   "execution_count": null,
   "id": "1c4f27e5",
   "metadata": {},
   "outputs": [],
   "source": [
    "app2005.info()"
   ]
  },
  {
   "cell_type": "code",
   "execution_count": null,
   "id": "2e405035",
   "metadata": {},
   "outputs": [],
   "source": [
    "app2009 = pd.read_excel('../data/2009_appraisals_[source].xlsx', usecols=['UserAccount','FiscalYear','LAND APPR','BLDG APPR','TOTAL APPR','TOTAL ASSD'])\n",
    "app2009.head(10)"
   ]
  },
  {
   "cell_type": "code",
   "execution_count": null,
   "id": "bc9f42fd",
   "metadata": {},
   "outputs": [],
   "source": [
    "app2009.info()"
   ]
  },
  {
   "cell_type": "code",
   "execution_count": null,
   "id": "e75345f1",
   "metadata": {},
   "outputs": [],
   "source": [
    "app2013 = pd.read_excel('../data/2013_appraisals_[source].xlsx', usecols=['UserAccount','FiscalYear','LAND APPR','BLDG APPR','TOTAL APPR','TOTAL ASSD'])\n",
    "app2013.head(10)"
   ]
  },
  {
   "cell_type": "code",
   "execution_count": null,
   "id": "36f13e47",
   "metadata": {},
   "outputs": [],
   "source": [
    "app2013.info()"
   ]
  },
  {
   "cell_type": "code",
   "execution_count": null,
   "id": "3badb3bd",
   "metadata": {},
   "outputs": [],
   "source": [
    "app2017 = pd.read_excel('../data/2017_appraisals_[source].xlsx', usecols=['UserAccount','FiscalYear','LAND APPR','BLDG APPR','TOTAL APPR','TOTAL ASSD'])\n",
    "app2017.head(10)"
   ]
  },
  {
   "cell_type": "code",
   "execution_count": null,
   "id": "debec0d1",
   "metadata": {},
   "outputs": [],
   "source": [
    "app2017.info()"
   ]
  },
  {
   "cell_type": "code",
   "execution_count": null,
   "id": "f563f726",
   "metadata": {},
   "outputs": [],
   "source": [
    "app2021 = pd.read_excel('../data/2021_appraisals_[source].xlsx', usecols=['UserAccount','FiscalYear','LAND APPR','BLDG APPR','TOTAL APPR','TOTAL ASSD'])\n",
    "app2021.head(10)"
   ]
  },
  {
   "cell_type": "code",
   "execution_count": null,
   "id": "17b8b5d9",
   "metadata": {},
   "outputs": [],
   "source": [
    "app2021.info()"
   ]
  },
  {
   "cell_type": "code",
   "execution_count": null,
   "id": "beb1ed2f",
   "metadata": {},
   "outputs": [],
   "source": [
    "app_all = pd.concat([app2005, app2009,app2013,app2017,app2021], axis=0)\n",
    "app_all"
   ]
  },
  {
   "cell_type": "code",
   "execution_count": null,
   "id": "1b7aa620",
   "metadata": {},
   "outputs": [],
   "source": [
    "app_all_csv_data = app_all.to_csv('../data/app_all.csv', index = False)"
   ]
  }
 ],
 "metadata": {
  "kernelspec": {
   "display_name": "Python 3",
   "language": "python",
   "name": "python3"
  },
  "language_info": {
   "codemirror_mode": {
    "name": "ipython",
    "version": 3
   },
   "file_extension": ".py",
   "mimetype": "text/x-python",
   "name": "python",
   "nbconvert_exporter": "python",
   "pygments_lexer": "ipython3",
   "version": "3.8.8"
  }
 },
 "nbformat": 4,
 "nbformat_minor": 5
}
